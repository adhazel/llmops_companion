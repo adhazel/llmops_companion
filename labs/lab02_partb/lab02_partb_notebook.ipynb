{
 "cells": [
  {
   "cell_type": "markdown",
   "metadata": {},
   "source": [
    "# Lab 02 Part B Notebook\n",
    "Use this notebook to create the connection needed to your Azure OpenAI resource or to perform any necessary explorations. \n"
   ]
  },
  {
   "cell_type": "markdown",
   "metadata": {},
   "source": [
    "### Create GPT Model Connection\n",
    "\n",
    "- [Prompt flow Getting started quickstart](https://github.com/microsoft/promptflow/blob/main/examples/tutorials/get-started/quickstart.ipynb)\n",
    "- [How to manage connections reference](https://microsoft.github.io/promptflow/how-to-guides/manage-connections.html#create-a-connection)\n",
    "\n",
    "Note: After you've created this connection, go to the Prompt Flow extension sidebar and, in the Connections pane, expand Azure OpenAI. Then, right-click the open_ai_connection and select Update Connection. Save the resulting YAML to the labs/lab02_parta folder."
   ]
  },
  {
   "cell_type": "code",
   "execution_count": null,
   "metadata": {},
   "outputs": [],
   "source": [
    "import promptflow\n",
    "\n",
    "pf = promptflow.PFClient()\n",
    "\n",
    "# List all the available connections\n",
    "for c in pf.connections.list():\n",
    "    print(c.name + \" (\" + c.type + \")\")"
   ]
  },
  {
   "cell_type": "code",
   "execution_count": null,
   "metadata": {},
   "outputs": [],
   "source": [
    "# create needed connection\n",
    "from promptflow.entities import AzureOpenAIConnection, OpenAIConnection\n",
    "\n",
    "my_conn_name = \"open_ai_connection\"\n",
    "my_api_base=\"https://coe-openai-sweden.openai.azure.com/\"\n",
    "my_api_version=\"2024-02-01\"\n",
    "\n",
    "try:\n",
    "    result = pf.connections.get(name=my_conn_name)\n",
    "    print(\"using existing connection\")\n",
    "except:\n",
    "    # Follow https://learn.microsoft.com/en-us/azure/ai-services/openai/how-to/create-resource?pivots=web-portal to create an Azure Open AI resource.\n",
    "    connection = AzureOpenAIConnection(\n",
    "        name=my_conn_name,\n",
    "        api_key=\"<user-input>\",\n",
    "        api_base=my_api_base,\n",
    "        api_type=\"azure\",\n",
    "        api_version=my_api_version,\n",
    "    )\n",
    "\n",
    "    # use this if you have an existing OpenAI account\n",
    "    # connection = OpenAIConnection(\n",
    "    #     name=conn_name,\n",
    "    #     api_key=\"<user-input>\",\n",
    "    # )\n",
    "    result = pf.connections.create_or_update(connection)\n",
    "    print(\"successfully created connection\")\n",
    "\n",
    "print(result)\n"
   ]
  },
  {
   "cell_type": "code",
   "execution_count": null,
   "metadata": {},
   "outputs": [],
   "source": [
    "# # Create or update an azure open ai connection with a new api base\n",
    "# connection = pf.connections.get(name=\"open_ai_connection\")\n",
    "# connection.api_base = \"https://[Your AOAI Resource Name].azure.com/\"\n",
    "# connection.api_key = \"[Your AOAI Resource API Key]\"  # secrets are required when updating connection using sdk\n",
    "# result = pf.connections.create_or_update(connection)\n",
    "# print(connection)\n"
   ]
  }
 ],
 "metadata": {
  "kernelspec": {
   "display_name": ".venv",
   "language": "python",
   "name": "python3"
  },
  "language_info": {
   "codemirror_mode": {
    "name": "ipython",
    "version": 3
   },
   "file_extension": ".py",
   "mimetype": "text/x-python",
   "name": "python",
   "nbconvert_exporter": "python",
   "pygments_lexer": "ipython3",
   "version": "3.11.0"
  }
 },
 "nbformat": 4,
 "nbformat_minor": 2
}
